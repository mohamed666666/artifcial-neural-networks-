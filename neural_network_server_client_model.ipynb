{
 "cells": [
  {
   "cell_type": "markdown",
   "metadata": {},
   "source": [
    "# Import Libraries"
   ]
  },
  {
   "cell_type": "code",
   "execution_count": 1,
   "metadata": {},
   "outputs": [],
   "source": [
    "%matplotlib inline\n",
    "\n",
    "import tensorflow as tf\n",
    "import numpy as np\n",
    "import matplotlib.pyplot as plt"
   ]
  },
  {
   "cell_type": "markdown",
   "metadata": {},
   "source": [
    "# Download Data"
   ]
  },
  {
   "cell_type": "code",
   "execution_count": 2,
   "metadata": {},
   "outputs": [],
   "source": [
    "(x_train,y_train),(x_test,y_test)=tf.keras.datasets.mnist.load_data()"
   ]
  },
  {
   "cell_type": "markdown",
   "metadata": {},
   "source": [
    "# Plot Examples"
   ]
  },
  {
   "cell_type": "code",
   "execution_count": 4,
   "metadata": {},
   "outputs": [
    {
     "data": {
      "image/png": "[encoded data removed]",
      "text/plain": [
       "<Figure size 720x720 with 16 Axes>"
      ]
     },
     "metadata": {
      "needs_background": "light"
     },
     "output_type": "display_data"
    }
   ],
   "source": [
    "plt.figure(figsize=(10,10))\n",
    "\n",
    "for i in range(16):\n",
    "    plt.subplot(4,4,i+1)\n",
    "    plt.imshow(x_train[i],cmap=\"binary\")\n",
    "    plt.xlabel(str(y_train[i]))\n",
    "plt.show()"
   ]
  },
  {
   "cell_type": "markdown",
   "metadata": {},
   "source": [
    "# Normalize Data"
   ]
  },
  {
   "cell_type": "code",
   "execution_count": 9,
   "metadata": {},
   "outputs": [],
   "source": [
    "x_train=np.reshape(x_train,(60000,28*28))\n",
    "x_test=np.reshape(x_test,(10000,28*28))\n",
    "\n",
    "x_train=x_train/255.\n",
    "x_test=x_test/255."
   ]
  },
  {
   "cell_type": "markdown",
   "metadata": {},
   "source": [
    "# Create a Neural Network Model"
   ]
  },
  {
   "cell_type": "code",
   "execution_count": 12,
   "metadata": {},
   "outputs": [],
   "source": [
    "model=tf.keras.models.Sequential(\n",
    "    [tf.keras.layers.Dense(32,activation=\"sigmoid\",input_shape=(784,)),\n",
    "    tf.keras.layers.Dense(32,activation=\"sigmoid\"),\n",
    "    tf.keras.layers.Dense(10,activation=\"softmax\")\n",
    "    ])\n",
    "\n",
    "model.compile(\n",
    "    loss=\"sparse_categorical_crossentropy\",\n",
    "    optimizer=\"adam\",\n",
    "    metrics=[\"accuracy\"]\n",
    "    \n",
    ")\n"
   ]
  },
  {
   "cell_type": "markdown",
   "metadata": {},
   "source": [
    "# Train the Model"
   ]
  },
  {
   "cell_type": "code",
   "execution_count": 14,
   "metadata": {},
   "outputs": [
    {
     "name": "stdout",
     "output_type": "stream",
     "text": [
      "Epoch 1/20\n",
      "58/58 - 0s - loss: 0.3455 - accuracy: 0.9162 - val_loss: 0.3280 - val_accuracy: 0.9190\n",
      "Epoch 2/20\n",
      "58/58 - 0s - loss: 0.3207 - accuracy: 0.9199 - val_loss: 0.3069 - val_accuracy: 0.9225\n",
      "Epoch 3/20\n",
      "58/58 - 0s - loss: 0.2999 - accuracy: 0.9238 - val_loss: 0.2888 - val_accuracy: 0.9260\n",
      "Epoch 4/20\n",
      "58/58 - 0s - loss: 0.2827 - accuracy: 0.9276 - val_loss: 0.2738 - val_accuracy: 0.9288\n",
      "Epoch 5/20\n",
      "58/58 - 0s - loss: 0.2685 - accuracy: 0.9297 - val_loss: 0.2609 - val_accuracy: 0.9305\n",
      "Epoch 6/20\n",
      "58/58 - 0s - loss: 0.2557 - accuracy: 0.9329 - val_loss: 0.2505 - val_accuracy: 0.9323\n",
      "Epoch 7/20\n",
      "58/58 - 0s - loss: 0.2445 - accuracy: 0.9353 - val_loss: 0.2409 - val_accuracy: 0.9349\n",
      "Epoch 8/20\n",
      "58/58 - 0s - loss: 0.2348 - accuracy: 0.9375 - val_loss: 0.2314 - val_accuracy: 0.9366\n",
      "Epoch 9/20\n",
      "58/58 - 0s - loss: 0.2257 - accuracy: 0.9396 - val_loss: 0.2241 - val_accuracy: 0.9383\n",
      "Epoch 10/20\n",
      "58/58 - 0s - loss: 0.2176 - accuracy: 0.9413 - val_loss: 0.2166 - val_accuracy: 0.9397\n",
      "Epoch 11/20\n",
      "58/58 - 1s - loss: 0.2100 - accuracy: 0.9437 - val_loss: 0.2105 - val_accuracy: 0.9410\n",
      "Epoch 12/20\n",
      "58/58 - 0s - loss: 0.2035 - accuracy: 0.9453 - val_loss: 0.2042 - val_accuracy: 0.9425\n",
      "Epoch 13/20\n",
      "58/58 - 1s - loss: 0.1969 - accuracy: 0.9465 - val_loss: 0.1985 - val_accuracy: 0.9435\n",
      "Epoch 14/20\n",
      "58/58 - 1s - loss: 0.1909 - accuracy: 0.9482 - val_loss: 0.1935 - val_accuracy: 0.9452\n",
      "Epoch 15/20\n",
      "58/58 - 0s - loss: 0.1852 - accuracy: 0.9494 - val_loss: 0.1904 - val_accuracy: 0.9451\n",
      "Epoch 16/20\n",
      "58/58 - 1s - loss: 0.1802 - accuracy: 0.9506 - val_loss: 0.1847 - val_accuracy: 0.9465\n",
      "Epoch 17/20\n",
      "58/58 - 0s - loss: 0.1752 - accuracy: 0.9524 - val_loss: 0.1810 - val_accuracy: 0.9477\n",
      "Epoch 18/20\n",
      "58/58 - 0s - loss: 0.1705 - accuracy: 0.9538 - val_loss: 0.1773 - val_accuracy: 0.9487\n",
      "Epoch 19/20\n",
      "58/58 - 1s - loss: 0.1664 - accuracy: 0.9549 - val_loss: 0.1738 - val_accuracy: 0.9491\n",
      "Epoch 20/20\n",
      "58/58 - 0s - loss: 0.1620 - accuracy: 0.9562 - val_loss: 0.1706 - val_accuracy: 0.9500\n"
     ]
    }
   ],
   "source": [
    "_=model.fit(\n",
    "    x_train,y_train,\n",
    "    validation_data=(x_test,y_test),\n",
    "    epochs=20,batch_size=1048,verbose=2\n",
    ")"
   ]
  },
  {
   "cell_type": "markdown",
   "metadata": {},
   "source": [
    "# Save the Model"
   ]
  },
  {
   "cell_type": "code",
   "execution_count": 15,
   "metadata": {},
   "outputs": [],
   "source": [
    "model.save(\"model.h5\")"
   ]
  },
  {
   "cell_type": "markdown",
   "metadata": {},
   "source": [
    "# ML Server"
   ]
  },
  {
   "cell_type": "code",
   "execution_count": 18,
   "metadata": {},
   "outputs": [
    {
     "name": "stdout",
     "output_type": "stream",
     "text": [
      "Overwriting ml_server.py\n"
     ]
    }
   ],
   "source": [
    "%%writefile ml_server.py\n",
    "\n",
    "import json\n",
    "import tensorflow as tf\n",
    "import numpy as np\n",
    "import random\n",
    "\n",
    "from flask import Flask,request\n",
    "\n",
    "\n",
    "app=Flask(__name__)\n",
    "model=tf.keras.models.load_model(\"model.h5\")\n",
    "feature_model=tf.keras.models.Model(\n",
    "    model.inputs,\n",
    "    [l.output for l in model.layers]\n",
    ")\n",
    "\n",
    "\n",
    "_,(x_test,_)=tf.keras.datasets.mnist.load_data()\n",
    "x_test=x_test/255.0\n",
    "\n",
    "def get_preds():\n",
    "    index=np.random.choice(x_test.shape[0])\n",
    "    image=x_test[index,:,:]\n",
    "    img_arr=np.reshape(image,(1,784))\n",
    "    return feature_model.predict(img_arr),image\n",
    "\n",
    "\n",
    "\n",
    "\n",
    "@app.route('/',methods=['GET','POST'])\n",
    "def index():\n",
    "    if request.method=='POST':\n",
    "        preds,image=get_preds()\n",
    "        final_preds=[p.tolist() for p in preds ]\n",
    "        return json.dumps({\n",
    "            \"Predictions\":final_preds,\n",
    "            \"Image\":image.tolist()\n",
    "        }\n",
    "        )\n",
    "    \n",
    "    return \"Welcome to model server\"\n",
    "\n",
    "if __name__==\"__main__\":\n",
    "    app.run()"
   ]
  },
  {
   "cell_type": "markdown",
   "metadata": {},
   "source": [
    "# Streamlit Web App"
   ]
  },
  {
   "cell_type": "code",
   "execution_count": 29,
   "metadata": {},
   "outputs": [
    {
     "name": "stdout",
     "output_type": "stream",
     "text": [
      "Overwriting app.py\n"
     ]
    }
   ],
   "source": [
    "%%writefile app.py\n",
    "\n",
    "\n",
    "import streamlit as st \n",
    "import json\n",
    "import requests\n",
    "import matplotlib.pyplot as plt\n",
    "import numpy as np\n",
    "\n",
    "URI=\"http://127.0.0.1:5000\"\n",
    "\n",
    "st.title(\"Neural Network Visualizer\")\n",
    "\n",
    "st.sidebar.markdown(\"## input image\")\n",
    "\n",
    "\n",
    "if st.button(\"Get Random Prediction\"):\n",
    "    response=requests.post(URI,data={})\n",
    "    response=json.loads(response.text)\n",
    "    preds=response.get(\"Predictions\")\n",
    "    image=response.get(\"Image\")\n",
    "    image=np.reshape(image,(28,28))\n",
    "    \n",
    "    st.sidebar.image(image,width=150)\n",
    "    \n",
    "    for layer,p in enumerate(preds):\n",
    "        \n",
    "        numbers=np.squeeze(np.array(p))\n",
    "        \n",
    "        plt.figure(figsize=(32,4))\n",
    "        if layer==2:\n",
    "            row=1\n",
    "            col=10\n",
    "        else:\n",
    "            row=2\n",
    "            col=16\n",
    "        for i ,number in enumerate(numbers):\n",
    "            plt.subplot(row,col,i+1)\n",
    "            plt.imshow(number*np.ones((8,8,3)).astype('float32'))\n",
    "            plt.xticks([])\n",
    "            plt.yticks([])\n",
    "            \n",
    "            \n",
    "            if layer==2:\n",
    "                plt.xlabel(str(i),fontsize=33)\n",
    "        plt.subplots_adjust(wspace=0.05)\n",
    "        plt.tight_layout()\n",
    "        st.text('Layer{}'.format(layer+1))\n",
    "        st.pyplot()"
   ]
  },
  {
   "cell_type": "code",
   "execution_count": null,
   "metadata": {},
   "outputs": [],
   "source": []
  }
 ],
 "metadata": {
  "kernelspec": {
   "display_name": "Python 3",
   "language": "python",
   "name": "python3"
  },
  "language_info": {
   "codemirror_mode": {
    "name": "ipython",
    "version": 3
   },
   "file_extension": ".py",
   "mimetype": "text/x-python",
   "name": "python",
   "nbconvert_exporter": "python",
   "pygments_lexer": "ipython3",
   "version": "3.6.9"
  }
 },
 "nbformat": 4,
 "nbformat_minor": 4
}
